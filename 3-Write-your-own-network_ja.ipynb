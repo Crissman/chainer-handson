{
 "cells": [
  {
   "cell_type": "markdown",
   "metadata": {
    "deletable": true,
    "editable": true
   },
   "source": [
    "# 新しいネットワークを書いてみよう\n",
    "\n",
    "ここでは、MNISTデータセットではなくCIFAR10という32x32サイズの小さなカラー画像に10クラスのいずれかのラベルがついたデータセットを用いて、いろいろなモデルを自分で書いて試行錯誤する流れを体験してみます。\n",
    "\n",
    "| airplane | automobile | bird | cat | deer | dog | frog | horse | ship | truck |\n",
    "|:--------:|:----------:|:----:|:---:|:----:|:---:|:----:|:-----:|:----:|:-----:|\n",
    "| ![](https://www.cs.toronto.edu/~kriz/cifar-10-sample/airplane4.png) | ![](https://www.cs.toronto.edu/~kriz/cifar-10-sample/automobile4.png) | ![](https://www.cs.toronto.edu/~kriz/cifar-10-sample/bird4.png) | ![](https://www.cs.toronto.edu/~kriz/cifar-10-sample/cat4.png) | ![](https://www.cs.toronto.edu/~kriz/cifar-10-sample/deer4.png) | ![](https://www.cs.toronto.edu/~kriz/cifar-10-sample/dog4.png) | ![](https://www.cs.toronto.edu/~kriz/cifar-10-sample/frog4.png) | ![](https://www.cs.toronto.edu/~kriz/cifar-10-sample/horse4.png) | ![](https://www.cs.toronto.edu/~kriz/cifar-10-sample/ship4.png) | ![](https://www.cs.toronto.edu/~kriz/cifar-10-sample/truck4.png) |"
   ]
  },
  {
   "cell_type": "markdown",
   "metadata": {
    "deletable": true,
    "editable": true
   },
   "source": [
    "## モデルの定義\n",
    "\n",
    "モデルは、`Chain`クラスを継承して定義します。ここでは、以前試した全結合層だけからなるネットワークではなく、畳込み層を持つネットワークを定義してみます。"
   ]
  },
  {
   "cell_type": "code",
   "execution_count": 1,
   "metadata": {
    "collapsed": true,
    "deletable": true,
    "editable": true
   },
   "outputs": [],
   "source": [
    "import chainer\n",
    "import chainer.functions as F\n",
    "import chainer.links as L\n",
    "\n",
    "class MyModel(chainer.Chain):\n",
    "    \n",
    "    def __init__(self, n_out):\n",
    "        super(MyModel, self).__init__(\n",
    "            conv1=L.Convolution2D(None, 32, 3, 3, 1),\n",
    "            conv2=L.Convolution2D(32, 64, 3, 3, 1),\n",
    "            conv3=L.Convolution2D(64, 128, 3, 3, 1),\n",
    "            fc4=L.Linear(None, 1000),\n",
    "            fc5=L.Linear(1000, n_out)\n",
    "        )\n",
    "        \n",
    "    def __call__(self, x):\n",
    "        h = F.relu(self.conv1(x))\n",
    "        h = F.relu(self.conv2(h))\n",
    "        h = F.relu(self.conv3(h))\n",
    "        h = F.relu(self.fc4(h))\n",
    "        h = self.fc5(h)\n",
    "        return h"
   ]
  },
  {
   "cell_type": "markdown",
   "metadata": {
    "deletable": true,
    "editable": true
   },
   "source": [
    "## 学習\n",
    "\n",
    "では`Trainer`を用いて、CIFAR10データセットの画像を10クラスに分類するように訓練してみましょう。"
   ]
  },
  {
   "cell_type": "code",
   "execution_count": 2,
   "metadata": {
    "collapsed": false,
    "deletable": true,
    "editable": true
   },
   "outputs": [
    {
     "name": "stdout",
     "output_type": "stream",
     "text": [
      "epoch       main/loss   main/accuracy  validation/main/loss  validation/main/accuracy  elapsed_time\n",
      "\u001b[J1           1.55021     0.432964       1.3442                0.507265                  5.81079       \n",
      "\u001b[J2           1.24361     0.552077       1.20383               0.57086                   11.0822       \n",
      "\u001b[J3           1.09252     0.606274       1.15816               0.585689                  16.3019       \n",
      "\u001b[J4           0.971236    0.653469       1.08333               0.61664                   21.4328       \n",
      "\u001b[J5           0.858733    0.692935       1.05867               0.624801                  26.5601       \n",
      "\u001b[J6           0.750933    0.732494       1.06612               0.627588                  31.7479       \n",
      "\u001b[J7           0.636682    0.773207       1.12086               0.629976                  36.8354       \n",
      "\u001b[J8           0.526144    0.814381       1.15784               0.628583                  42.0291       \n",
      "\u001b[J9           0.417735    0.854          1.26199               0.628583                  47.1442       \n",
      "\u001b[J10          0.322609    0.886464       1.41381               0.622412                  52.4422       \n",
      "\u001b[J11          0.25175     0.911572       1.56353               0.619526                  57.6123       \n",
      "\u001b[J12          0.196541    0.931838       1.68713               0.61256                   62.7874       \n",
      "\u001b[J13          0.166199    0.942575       1.84313               0.608877                  67.9729       \n",
      "\u001b[J14          0.137417    0.953085       2.02991               0.612361                  73.1566       \n",
      "\u001b[J15          0.12347     0.957246       2.12291               0.608778                  78.3935       \n",
      "\u001b[J16          0.113393    0.961048       2.24995               0.603802                  83.6818       \n",
      "\u001b[J17          0.0938803   0.96827        2.32914               0.615048                  88.7838       \n",
      "\u001b[J18          0.0957497   0.96829        2.66917               0.604797                  93.9022       \n",
      "\u001b[J19          0.0957736   0.966909       2.61825               0.6041                    99.1252       \n",
      "\u001b[J20          0.0874018   0.970551       2.60013               0.610669                  104.387       \n"
     ]
    }
   ],
   "source": [
    "from chainer.datasets import cifar\n",
    "from chainer import iterators\n",
    "from chainer import optimizers\n",
    "from chainer import training\n",
    "from chainer.training import extensions\n",
    "\n",
    "batchsize = 64\n",
    "gpu_id = 0\n",
    "max_epoch = 20\n",
    "\n",
    "# 1. Dataset\n",
    "train, test = cifar.get_cifar10()\n",
    "\n",
    "# 2. Iterator\n",
    "train_iter = iterators.SerialIterator(train, batchsize)\n",
    "test_iter = iterators.SerialIterator(test, batchsize, False, False)\n",
    "\n",
    "# 3. Model\n",
    "model = MyModel(10)\n",
    "model = L.Classifier(model)\n",
    "model.to_gpu(gpu_id)\n",
    "\n",
    "# 4. Optimizer\n",
    "optimizer = optimizers.Adam()\n",
    "optimizer.setup(model)\n",
    "\n",
    "# 5. Updater\n",
    "updater = training.StandardUpdater(train_iter, optimizer, device=gpu_id)\n",
    "\n",
    "# 6. Trainer\n",
    "trainer = training.Trainer(updater, (max_epoch, 'epoch'), out='cifar10_result')\n",
    "\n",
    "trainer.extend(extensions.LogReport())\n",
    "trainer.extend(extensions.Evaluator(test_iter, model, device=gpu_id))\n",
    "trainer.extend(extensions.PrintReport(['epoch', 'main/loss', 'main/accuracy', 'validation/main/loss', 'validation/main/accuracy', 'elapsed_time']))\n",
    "trainer.extend(extensions.PlotReport(['main/loss', 'validation/main/loss'], x_key='epoch', file_name='loss.png'))\n",
    "trainer.extend(extensions.PlotReport(['main/accuracy', 'validation/main/accuracy'], x_key='epoch', file_name='accuracy.png'))\n",
    "trainer.run()"
   ]
  },
  {
   "cell_type": "markdown",
   "metadata": {
    "deletable": true,
    "editable": true
   },
   "source": [
    "学習が一通り終わりました。ロスと精度のプロットを見てみましょう。\n",
    "\n",
    "ロス：\n",
    "![](cifar10_result/loss.png)\n",
    "\n",
    "精度：\n",
    "![](cifar10_result/accuracy.png)\n",
    "\n",
    "学習データでの精度は98%近くまで到達していますが、テストデータではロスはむしろIterationを進むごとに大きくなってしまっており、また精度も60%付近で頭打ちになってしまっています。モデルが学習データにオーバーフィッティングしていると思われます。"
   ]
  },
  {
   "cell_type": "markdown",
   "metadata": {},
   "source": [
    "## 学習済みモデルを使った予測\n",
    "\n",
    "テスト精度は60%程度でしたが、この学習済みモデルを使っていくつかのテスト画像を分類させてみましょう。"
   ]
  },
  {
   "cell_type": "code",
   "execution_count": 3,
   "metadata": {
    "collapsed": false,
    "deletable": true,
    "editable": true
   },
   "outputs": [
    {
     "name": "stdout",
     "output_type": "stream",
     "text": [
      "predicted_label: cat\n",
      "answer: cat\n"
     ]
    },
    {
     "data": {
      "image/png": "[encoded data removed]",
      "text/plain": [
       "<matplotlib.figure.Figure at 0x7f9390734fd0>"
      ]
     },
     "metadata": {},
     "output_type": "display_data"
    },
    {
     "name": "stdout",
     "output_type": "stream",
     "text": [
      "predicted_label: ship\n",
      "answer: ship\n"
     ]
    },
    {
     "data": {
      "image/png": "[encoded data removed]",
      "text/plain": [
       "<matplotlib.figure.Figure at 0x7f9390a2f320>"
      ]
     },
     "metadata": {},
     "output_type": "display_data"
    },
    {
     "name": "stdout",
     "output_type": "stream",
     "text": [
      "predicted_label: airplane\n",
      "answer: ship\n"
     ]
    },
    {
     "data": {
      "image/png": "[encoded data removed]",
      "text/plain": [
       "<matplotlib.figure.Figure at 0x7f9390afdef0>"
      ]
     },
     "metadata": {},
     "output_type": "display_data"
    },
    {
     "name": "stdout",
     "output_type": "stream",
     "text": [
      "predicted_label: automobile\n",
      "answer: airplane\n"
     ]
    },
    {
     "data": {
      "image/png": "[encoded data removed]",
      "text/plain": [
       "<matplotlib.figure.Figure at 0x7f93909dc358>"
      ]
     },
     "metadata": {},
     "output_type": "display_data"
    },
    {
     "name": "stdout",
     "output_type": "stream",
     "text": [
      "predicted_label: bird\n",
      "answer: frog\n"
     ]
    },
    {
     "data": {
      "image/png": "[encoded data removed]",
      "text/plain": [
       "<matplotlib.figure.Figure at 0x7f9390ac0668>"
      ]
     },
     "metadata": {},
     "output_type": "display_data"
    }
   ],
   "source": [
    "%matplotlib inline\n",
    "import matplotlib.pyplot as plt\n",
    "\n",
    "cls_names = ['airplane', 'automobile', 'bird', 'cat', 'deer',\n",
    "             'dog', 'frog', 'horse', 'ship', 'truck']\n",
    "\n",
    "def predict(image_id):\n",
    "    x, t = test[image_id]\n",
    "    model.to_cpu()\n",
    "    y = model.predictor(x[None, ...]).data.argmax(axis=1)[0]\n",
    "    print('predicted_label:', cls_names[y])\n",
    "    print('answer:', cls_names[t])\n",
    "\n",
    "    plt.imshow(x.transpose(1, 2, 0))\n",
    "    plt.show()\n",
    "\n",
    "predict(0)\n",
    "predict(1)\n",
    "predict(2)\n",
    "predict(3)\n",
    "predict(4)"
   ]
  }
 ],
 "metadata": {
  "kernelspec": {
   "display_name": "Python 3",
   "language": "python",
   "name": "python3"
  },
  "language_info": {
   "codemirror_mode": {
    "name": "ipython",
    "version": 3
   },
   "file_extension": ".py",
   "mimetype": "text/x-python",
   "name": "python",
   "nbconvert_exporter": "python",
   "pygments_lexer": "ipython3",
   "version": "3.4.3"
  }
 },
 "nbformat": 4,
 "nbformat_minor": 2
}
