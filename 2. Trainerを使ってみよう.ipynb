{
 "cells": [
  {
   "cell_type": "markdown",
   "metadata": {},
   "source": [
    "# Trainerを使ってみよう\n",
    "\n",
    "`Trainer`を使うと学習ループを明示的に書く必要がなくなり、またいろいろな便利なExtentionを使うことで可視化や`Logging`などが楽になります。\n",
    "\n",
    "まずは必要なものを`import`しておきます。"
   ]
  },
  {
   "cell_type": "code",
   "execution_count": 1,
   "metadata": {
    "collapsed": true
   },
   "outputs": [],
   "source": [
    "import chainer\n",
    "from chainer import training\n",
    "from chainer.training import extensions\n",
    "from chainer.datasets import mnist"
   ]
  },
  {
   "cell_type": "markdown",
   "metadata": {},
   "source": [
    "## データセットの準備"
   ]
  },
  {
   "cell_type": "code",
   "execution_count": 2,
   "metadata": {
    "collapsed": true
   },
   "outputs": [],
   "source": [
    "train, test = mnist.get_mnist()"
   ]
  },
  {
   "cell_type": "markdown",
   "metadata": {},
   "source": [
    "## Iteratorの準備"
   ]
  },
  {
   "cell_type": "code",
   "execution_count": 3,
   "metadata": {
    "collapsed": false
   },
   "outputs": [],
   "source": [
    "batchsize = 128\n",
    "\n",
    "train_iter = chainer.iterators.SerialIterator(train, batchsize)\n",
    "test_iter = chainer.iterators.SerialIterator(\n",
    "    test, batchsize, repeat=False, shuffle=False)"
   ]
  },
  {
   "cell_type": "markdown",
   "metadata": {},
   "source": [
    "## Modelの準備"
   ]
  },
  {
   "cell_type": "code",
   "execution_count": 4,
   "metadata": {
    "collapsed": true
   },
   "outputs": [],
   "source": [
    "# ここは不要（赤いWarningが出て見にくいので出ないようにしている）\n",
    "import warnings\n",
    "warnings.filterwarnings('ignore')\n",
    "\n",
    "# ここから必要\n",
    "import sys\n",
    "sys.path.insert(0, 'chainer/examples/mnist')\n",
    "from train_mnist import MLP\n",
    "\n",
    "model = MLP(n_units=100, n_out=10)"
   ]
  },
  {
   "cell_type": "markdown",
   "metadata": {},
   "source": [
    "# Updaterの準備\n",
    "\n",
    "Trainerは学習に必要な全てのものをひとまとめにするクラスです。それは主に以下のようなものを保持します。\n",
    "\n",
    "- Updater\n",
    "    - Iterator\n",
    "    - Optimizer\n",
    "        - Model\n",
    "\n",
    "`Trainer`オブジェクトを作成するときに渡すのは基本的に`Updater`だけですが、`Updater`は中に`Iterator`と`Optimizer`を持っています。`Iterator`からはデータセットにアクセスすることができ、`Optimizer`は中でモデルへの参照を保持しているので、モデルのパラメータを更新することができます。つまり、`Updater`が内部で\n",
    "\n",
    "1. データセットからデータを取り出し\n",
    "2. モデルに渡してロスを計算し\n",
    "3. Optimizerを使ってモデルのパラメータを更新する\n",
    "\n",
    "という一連の学習の主要部分を行うことができるということです。では、`Updater`オブジェクトを作成してみます。"
   ]
  },
  {
   "cell_type": "code",
   "execution_count": 5,
   "metadata": {
    "collapsed": true
   },
   "outputs": [],
   "source": [
    "import numpy as np\n",
    "import chainer.functions as F\n",
    "import chainer.links as L\n",
    "\n",
    "max_epoch = 10\n",
    "gpu_id = 0\n",
    "\n",
    "# モデルをClassifierで包んで、ロスの計算などをモデルに含める\n",
    "model = L.Classifier(model)\n",
    "model.to_gpu(gpu_id)\n",
    "\n",
    "# 最適化手法の選択\n",
    "optimizer = chainer.optimizers.SGD()\n",
    "optimizer.setup(model)\n",
    "\n",
    "# UpdaterにIteratorとOptimizerを渡す\n",
    "updater = training.StandardUpdater(train_iter, optimizer, device=gpu_id)"
   ]
  },
  {
   "cell_type": "markdown",
   "metadata": {},
   "source": [
    "# Trainerの設定\n",
    "\n",
    "最後に、`Trainer`の設定を行います。`Trainer`のオブジェクトを作成する際に必須となるのは、先程作成した`Updater`オブジェクトだけですが、二番目の引数に学習をどのタイミングで終了するかを指定する`stop_trigger`を与えると、最大エポック数または最大イテレーション数を指定することができます。"
   ]
  },
  {
   "cell_type": "code",
   "execution_count": 6,
   "metadata": {
    "collapsed": false
   },
   "outputs": [],
   "source": [
    "# TrainerにUpdaterを渡す\n",
    "trainer = training.Trainer(updater, (max_epoch, 'epoch'))"
   ]
  },
  {
   "cell_type": "markdown",
   "metadata": {},
   "source": [
    "## TrainerにExtensionを追加する\n",
    "\n",
    "\n",
    "`Trainer`を使う利点として、\n",
    "\n",
    "- ログを自動的にファイルに保存（`LogReport`)\n",
    "- ターミナルに定期的にロスなどの情報を表示（`PrintReport`）\n",
    "- ロスを定期的にグラフで可視化して画像として保存（`PlotReport`)\n",
    "- 定期的にモデルやOptimizerの状態を自動シリアライズ（`snapshot`/`snapshot_object`）\n",
    "- 学習の進捗を示すプログレスバーを表示（`ProgressBar`）\n",
    "- モデルの構造をGraphvizのdot形式で保存（`dump_graph`）\n",
    "\n",
    "などなどの様々な便利な機能を利用することができる点があります。これらの機能を利用するのは簡単で、`Trainer`オブジェクトに対して`extend`メソッドを使って追加したい`Extension`のオブジェクトを渡してやるだけです。では実際に幾つかの`Extension`を追加してみましょう。"
   ]
  },
  {
   "cell_type": "code",
   "execution_count": 7,
   "metadata": {
    "collapsed": false
   },
   "outputs": [
    {
     "name": "stdout",
     "output_type": "stream",
     "text": [
      "epoch       main/loss   main/accuracy  elapsed_time\n",
      "\u001b[J1           1.44393     0.644856       2.63335       \n",
      "\u001b[J2           0.570543    0.857659       4.51591       \n",
      "\u001b[J3           0.414136    0.888409       6.42211       \n",
      "\u001b[J4           0.358988    0.900407       8.29233       \n",
      "\u001b[J5           0.328933    0.907116       10.157        \n",
      "\u001b[J6           0.308216    0.912197       12.1324       \n",
      "\u001b[J7           0.291617    0.917627       14.1007       \n",
      "\u001b[J8           0.278497    0.920807       15.902        \n",
      "\u001b[J9           0.266466    0.924091       17.8218       \n",
      "\u001b[J10          0.255959    0.927322       19.7502       \n"
     ]
    }
   ],
   "source": [
    "from chainer.training import extensions\n",
    "\n",
    "trainer.extend(extensions.LogReport())\n",
    "trainer.extend(extensions.PrintReport(\n",
    "    ['epoch', 'main/loss', 'main/accuracy', 'elapsed_time']))\n",
    "\n",
    "trainer.run()"
   ]
  }
 ],
 "metadata": {
  "kernelspec": {
   "display_name": "Python 3",
   "language": "python",
   "name": "python3"
  },
  "language_info": {
   "codemirror_mode": {
    "name": "ipython",
    "version": 3
   },
   "file_extension": ".py",
   "mimetype": "text/x-python",
   "name": "python",
   "nbconvert_exporter": "python",
   "pygments_lexer": "ipython3",
   "version": "3.4.3"
  }
 },
 "nbformat": 4,
 "nbformat_minor": 2
}
