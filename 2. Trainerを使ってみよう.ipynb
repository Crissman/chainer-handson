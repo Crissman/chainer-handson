{
 "cells": [
  {
   "cell_type": "markdown",
   "metadata": {
    "deletable": true,
    "editable": true
   },
   "source": [
    "# Trainerを使ってみよう\n",
    "\n",
    "`Trainer`を使うと学習ループを明示的に書く必要がなくなり、またいろいろな便利なExtentionを使うことで可視化やログの保存などが楽になります。\n",
    "\n",
    "まずは必要なものを`import`しておきます。"
   ]
  },
  {
   "cell_type": "markdown",
   "metadata": {
    "deletable": true,
    "editable": true
   },
   "source": [
    "## データセットの準備"
   ]
  },
  {
   "cell_type": "code",
   "execution_count": 1,
   "metadata": {
    "collapsed": true,
    "deletable": true,
    "editable": true
   },
   "outputs": [],
   "source": [
    "from chainer.datasets import mnist\n",
    "\n",
    "train, test = mnist.get_mnist()"
   ]
  },
  {
   "cell_type": "markdown",
   "metadata": {
    "deletable": true,
    "editable": true
   },
   "source": [
    "## Iteratorの準備"
   ]
  },
  {
   "cell_type": "code",
   "execution_count": 2,
   "metadata": {
    "collapsed": false,
    "deletable": true,
    "editable": true
   },
   "outputs": [],
   "source": [
    "from chainer import iterators\n",
    "\n",
    "batchsize = 128\n",
    "\n",
    "train_iter = iterators.SerialIterator(train, batchsize)\n",
    "test_iter = iterators.SerialIterator(\n",
    "    test, batchsize, repeat=False, shuffle=False)"
   ]
  },
  {
   "cell_type": "markdown",
   "metadata": {
    "deletable": true,
    "editable": true
   },
   "source": [
    "## Modelの準備"
   ]
  },
  {
   "cell_type": "code",
   "execution_count": 3,
   "metadata": {
    "collapsed": true,
    "deletable": true,
    "editable": true
   },
   "outputs": [],
   "source": [
    "# ここは不要（赤いWarningが出て見にくいので出ないようにしている）\n",
    "import warnings\n",
    "warnings.filterwarnings('ignore')\n",
    "\n",
    "# ここから必要\n",
    "import sys\n",
    "sys.path.insert(0, 'chainer/examples/mnist')\n",
    "from train_mnist import MLP\n",
    "\n",
    "model = MLP(n_units=100, n_out=10)"
   ]
  },
  {
   "cell_type": "markdown",
   "metadata": {
    "deletable": true,
    "editable": true
   },
   "source": [
    "# Updaterの準備\n",
    "\n",
    "Trainerは学習に必要な全てのものをひとまとめにするクラスです。それは主に以下のようなものを保持します。\n",
    "\n",
    "- Updater\n",
    "    - Iterator\n",
    "    - Optimizer\n",
    "        - Model\n",
    "\n",
    "`Trainer`オブジェクトを作成するときに渡すのは基本的に`Updater`だけですが、`Updater`は中に`Iterator`と`Optimizer`を持っています。`Iterator`からはデータセットにアクセスすることができ、`Optimizer`は中でモデルへの参照を保持しているので、モデルのパラメータを更新することができます。つまり、`Updater`が内部で\n",
    "\n",
    "1. データセットからデータを取り出し\n",
    "2. モデルに渡してロスを計算し\n",
    "3. Optimizerを使ってモデルのパラメータを更新する\n",
    "\n",
    "という一連の学習の主要部分を行うことができるということです。では、`Updater`オブジェクトを作成してみます。"
   ]
  },
  {
   "cell_type": "code",
   "execution_count": 4,
   "metadata": {
    "collapsed": false,
    "deletable": true,
    "editable": true
   },
   "outputs": [],
   "source": [
    "from chainer import optimizers\n",
    "from chainer import training\n",
    "import chainer.links as L\n",
    "\n",
    "max_epoch = 10\n",
    "gpu_id = 0\n",
    "\n",
    "# モデルをClassifierで包んで、ロスの計算などをモデルに含める\n",
    "model = L.Classifier(model)\n",
    "model.to_gpu(gpu_id)\n",
    "\n",
    "# 最適化手法の選択\n",
    "optimizer = optimizers.SGD()\n",
    "optimizer.setup(model)\n",
    "\n",
    "# UpdaterにIteratorとOptimizerを渡す\n",
    "updater = training.StandardUpdater(train_iter, optimizer, device=gpu_id)"
   ]
  },
  {
   "cell_type": "markdown",
   "metadata": {
    "deletable": true,
    "editable": true
   },
   "source": [
    "# Trainerの設定\n",
    "\n",
    "最後に、`Trainer`の設定を行います。`Trainer`のオブジェクトを作成する際に必須となるのは、先程作成した`Updater`オブジェクトだけですが、二番目の引数`stop_trigger`に学習をどのタイミングで終了するかを指定する`(長さ, 単位)`という形のタプルを与えると、指定したタイミングで学習を自動的に終了することができます。長さには任意の整数、単位には`'epoch'`か`'iteration'`のいずれかの文字列を指定できます。`stop_trigger`を指定しない場合、学習は自動的には止まりません。"
   ]
  },
  {
   "cell_type": "code",
   "execution_count": 5,
   "metadata": {
    "collapsed": false,
    "deletable": true,
    "editable": true
   },
   "outputs": [],
   "source": [
    "# TrainerにUpdaterを渡す\n",
    "trainer = training.Trainer(updater, (max_epoch, 'epoch'),\n",
    "                           out='mnist_result')"
   ]
  },
  {
   "cell_type": "markdown",
   "metadata": {
    "deletable": true,
    "editable": true
   },
   "source": [
    "`out`引数では、この次に説明する`Extension`を使って、ログファイルやロスの変化の過程を描画したグラフの画像ファイルなどを保存するディレクトリを指定しています。"
   ]
  },
  {
   "cell_type": "markdown",
   "metadata": {
    "deletable": true,
    "editable": true
   },
   "source": [
    "## TrainerにExtensionを追加する\n",
    "\n",
    "\n",
    "`Trainer`を使う利点として、\n",
    "\n",
    "- ログを自動的にファイルに保存（`LogReport`)\n",
    "- ターミナルに定期的にロスなどの情報を表示（`PrintReport`）\n",
    "- ロスを定期的にグラフで可視化して画像として保存（`PlotReport`)\n",
    "- 定期的にモデルやOptimizerの状態を自動シリアライズ（`snapshot`/`snapshot_object`）\n",
    "- 学習の進捗を示すプログレスバーを表示（`ProgressBar`）\n",
    "- モデルの構造をGraphvizのdot形式で保存（`dump_graph`）\n",
    "\n",
    "などなどの様々な便利な機能を簡単に利用することができる点があります。これらの機能を利用するには、`Trainer`オブジェクトに対して`extend`メソッドを使って追加したい`Extension`のオブジェクトを渡してやるだけです。では実際に幾つかの`Extension`を追加してみましょう。"
   ]
  },
  {
   "cell_type": "code",
   "execution_count": 6,
   "metadata": {
    "collapsed": false,
    "deletable": true,
    "editable": true
   },
   "outputs": [],
   "source": [
    "from chainer.training import extensions\n",
    "\n",
    "trainer.extend(extensions.LogReport())\n",
    "trainer.extend(extensions.snapshot(filename='snapshot_epoch-{.updater.epoch}'))\n",
    "trainer.extend(extensions.dump_graph('main/loss'))\n",
    "trainer.extend(extensions.Evaluator(test_iter, model, device=gpu_id))\n",
    "trainer.extend(extensions.PrintReport(['epoch', 'main/loss', 'main/accuracy', 'validation/main/loss', 'validation/main/accuracy', 'elapsed_time']))\n",
    "trainer.extend(extensions.PlotReport(['main/loss', 'main/accuracy'], x_key='epoch', file_name='train_plot.png'))\n",
    "trainer.extend(extensions.PlotReport(['validation/main/loss', 'validation/main/accuracy'], x_key='epoch', file_name='test_plot.png'))"
   ]
  },
  {
   "cell_type": "markdown",
   "metadata": {
    "deletable": true,
    "editable": true
   },
   "source": [
    "### `LogReport`\n",
    "\n",
    "`epoch`や`iteration`ごとの`loss`, `accuracy`などを自動的に集計し、`Trainer`の`out`引数で指定した出力ディレクトリに`log`というファイル名で保存します。\n",
    "\n",
    "### `snapshot`\n",
    "\n",
    "`Trainer`の`out`引数で指定した出力ディレクトリに`Trainer`オブジェクトを指定されたタイミング（デフォルトでは1エポックごと）に保存します。`Trainer`オブジェクトは上述のように`Updater`を持っており、この中に`Optimizer`とモデルが保持されているため、この`Extension`でスナップショットをとっておけば、学習の復帰や学習済みモデルを使った推論などが学習終了後にも可能になります。\n",
    "\n",
    "### `dump_graph`\n",
    "\n",
    "指定された`Variable`オブジェクトから辿れる計算グラフをGraphvizのdot形式で保存します。保存先は`Trainer`の`out`引数で指定した出力ディレクトリです。\n",
    "\n",
    "### `Evaluator`\n",
    "\n",
    "評価用のデータセットの`Iterator`と、学習に使うモデルのオブジェクトを渡しておくことで、学習中のモデルを指定されたタイミングで評価用データセットを用いて評価します。\n",
    "\n",
    "### `PrintReport`\n",
    "\n",
    "`Reporter`によって集計された値を標準出力に出力します。このときどの値を出力するかを、リストの形で与えます。\n",
    "\n",
    "### `PlotReport`\n",
    "\n",
    "引数のリストで指定された値の変遷を`matplotlib`ライブラリを使ってグラフに描画し、出力ディレクトリに`file_name`引数で指定されたファイル名で画像として保存します。\n",
    "\n",
    "---\n",
    "\n",
    "これらの`Extension`は、ここで紹介した以外にも、例えば`trigger`によって個別に作動するタイミングを指定できるなどのいくつかのオプションを持っており、より柔軟に組み合わせることができます。詳しくは公式のドキュメントを見てください：[Trainer extensions](http://docs.chainer.org/en/latest/reference/extensions.html)。"
   ]
  },
  {
   "cell_type": "markdown",
   "metadata": {
    "deletable": true,
    "editable": true
   },
   "source": [
    "## 学習を開始する\n",
    "\n",
    "学習を開始するには、`Trainer`オブジェクトのメソッド`run`を呼ぶだけです。"
   ]
  },
  {
   "cell_type": "code",
   "execution_count": 7,
   "metadata": {
    "collapsed": false,
    "deletable": true,
    "editable": true
   },
   "outputs": [
    {
     "name": "stdout",
     "output_type": "stream",
     "text": [
      "epoch       main/loss   main/accuracy  validation/main/loss  validation/main/accuracy  elapsed_time\n",
      "\u001b[J1           1.58693     0.614589       0.79229               0.824268                  2.85306       \n",
      "\u001b[J2           0.600655    0.848448       0.454533              0.88123                   5.34398       \n",
      "\u001b[J3           0.429701    0.88178        0.372535              0.897449                  7.88967       \n",
      "\u001b[J4           0.370342    0.895783       0.333431              0.906646                  10.4589       \n",
      "\u001b[J5           0.337783    0.903368       0.308546              0.91248                   13.0624       \n",
      "\u001b[J6           0.314782    0.909848       0.290473              0.918117                  15.5745       \n",
      "\u001b[J7           0.296777    0.914629       0.277287              0.922172                  18.2189       \n",
      "\u001b[J8           0.281795    0.919421       0.26504               0.925534                  20.8419       \n",
      "\u001b[J9           0.26903     0.923208       0.254257              0.928204                  23.4332       \n",
      "\u001b[J10          0.257293    0.926656       0.244019              0.930676                  25.9791       \n"
     ]
    }
   ],
   "source": [
    "trainer.run()"
   ]
  },
  {
   "cell_type": "markdown",
   "metadata": {
    "deletable": true,
    "editable": true
   },
   "source": [
    "保存されているグラフを確認してみましょう。（Jupyter notebookのmarkdownモードのセルで、`![](mnist_results/train_plot.png)`とやると以下のように画像として表示されます。）\n",
    "![](mnist_result/train_plot.png)\n",
    "テストデータに対するロスと精度のグラフも見てみましょう。\n",
    "![](mnist_result/test_plot.png)"
   ]
  }
 ],
 "metadata": {
  "kernelspec": {
   "display_name": "Python 3",
   "language": "python",
   "name": "python3"
  },
  "language_info": {
   "codemirror_mode": {
    "name": "ipython",
    "version": 3
   },
   "file_extension": ".py",
   "mimetype": "text/x-python",
   "name": "python",
   "nbconvert_exporter": "python",
   "pygments_lexer": "ipython3",
   "version": "3.4.3"
  }
 },
 "nbformat": 4,
 "nbformat_minor": 2
}
