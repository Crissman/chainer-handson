{
 "cells": [
  {
   "cell_type": "code",
   "execution_count": 11,
   "metadata": {
    "collapsed": true
   },
   "outputs": [],
   "source": []
  },
  {
   "cell_type": "code",
   "execution_count": 13,
   "metadata": {
    "collapsed": true
   },
   "outputs": [],
   "source": [
    "import chainer\n",
    "import chainer.functions as F\n",
    "import chainer.links as L\n",
    "\n",
    "class MyModel(chainer.Chain):\n",
    "    \n",
    "    def __init__(self, n_out):\n",
    "        w = chainer.initializers.HeNormal()\n",
    "        super(MyModel, self).__init__(\n",
    "            conv1=L.Convolution2D(None, 32, 3, 3, 1, initialW=w),\n",
    "            conv2=L.Convolution2D(32, 64, 3, 3, 1, initialW=w),\n",
    "            conv3=L.Convolution2D(64, 128, 3, 3, 1, initialW=w),\n",
    "            fc4=L.Linear(None, 1000),\n",
    "            fc5=L.Linear(1000, n_out)\n",
    "        )\n",
    "        train = True\n",
    "        \n",
    "    def __call__(self, x):\n",
    "        h = F.relu(self.conv1(x))\n",
    "        h = F.relu(self.conv2(h))\n",
    "        h = F.relu(self.conv3(h))\n",
    "        h = F.relu(self.fc4(h))\n",
    "        h = self.fc5(h)\n",
    "        return h"
   ]
  },
  {
   "cell_type": "code",
   "execution_count": 15,
   "metadata": {
    "collapsed": false
   },
   "outputs": [
    {
     "name": "stdout",
     "output_type": "stream",
     "text": [
      "epoch       iteration   main/loss   main/accuracy  elapsed_time\n",
      "\u001b[J1           782         1.52654     0.444913       5.06998       \n",
      "\u001b[J2           1563        1.22865     0.556998       9.60512       \n",
      "\u001b[J3           2344        1.07832     0.613876       13.9301       \n",
      "\u001b[J4           3125        0.946845    0.662212       18.2524       \n",
      "\u001b[J5           3907        0.823599    0.7079         22.7768       \n",
      "\u001b[J6           4688        0.702101    0.75016        27.1811       \n",
      "\u001b[J7           5469        0.581983    0.791793       31.612        \n",
      "\u001b[J8           6250        0.463027    0.838428       35.9966       \n",
      "\u001b[J9           7032        0.349658    0.877078       40.4519       \n",
      "\u001b[J10          7813        0.270859    0.90615        44.9542       \n",
      "\u001b[J11          8594        0.205517    0.929057       49.2675       \n",
      "\u001b[J12          9375        0.170201    0.941641       53.6698       \n",
      "\u001b[J13          10157       0.139611    0.953245       58.0438       \n",
      "\u001b[J14          10938       0.133209    0.953785       62.4179       \n",
      "\u001b[J15          11719       0.110343    0.962488       66.8069       \n",
      "\u001b[J16          12500       0.104732    0.963888       71.2138       \n",
      "\u001b[J17          13282       0.10464     0.964774       75.6045       \n",
      "\u001b[J18          14063       0.0918052   0.96879        79.9646       \n",
      "\u001b[J19          14844       0.0875371   0.96953        84.4489       \n",
      "\u001b[J20          15625       0.0920986   0.96831        88.8471       \n",
      "\u001b[J21          16407       0.0830642   0.972067       93.2719       \n",
      "\u001b[J22          17188       0.0797007   0.973512       97.6274       \n",
      "\u001b[J23          17969       0.068839    0.976372       101.93        \n",
      "\u001b[J24          18750       0.0735316   0.974752       106.384       \n",
      "\u001b[J25          19532       0.0805243   0.972766       110.78        \n",
      "\u001b[J26          20313       0.0747372   0.974232       115.155       \n",
      "\u001b[J27          21094       0.0737074   0.976272       119.561       \n",
      "\u001b[J28          21875       0.0723814   0.976552       123.905       \n",
      "\u001b[J29          22657       0.0579401   0.980818       128.422       \n",
      "\u001b[J30          23438       0.0878328   0.971691       132.902       \n",
      "\u001b[J31          24219       0.0623178   0.980054       137.236       \n",
      "\u001b[J32          25000       0.0725166   0.975852       141.675       \n",
      "\u001b[J33          25782       0.0566663   0.981478       146.05        \n",
      "\u001b[J34          26563       0.0685864   0.977453       150.443       \n",
      "\u001b[J35          27344       0.0582676   0.980894       154.876       \n",
      "\u001b[J36          28125       0.0664618   0.978213       159.232       \n",
      "\u001b[J37          28907       0.0665505   0.978441       163.558       \n",
      "\u001b[J38          29688       0.0563899   0.981854       167.877       \n",
      "\u001b[J39          30469       0.0588151   0.982014       172.21        \n",
      "\u001b[J40          31250       0.0636028   0.979934       176.555       \n",
      "\u001b[J41          32032       0.0658615   0.97912        180.983       \n",
      "\u001b[J42          32813       0.0618228   0.980614       185.458       \n",
      "\u001b[J43          33594       0.0610394   0.980274       189.934       \n",
      "\u001b[J44          34375       0.0553543   0.983175       194.511       \n",
      "\u001b[J45          35157       0.0559726   0.982597       199.051       \n",
      "\u001b[J46          35938       0.0564045   0.982854       203.537       \n",
      "\u001b[J47          36719       0.0534566   0.983495       207.965       \n",
      "\u001b[J48          37500       0.0642134   0.981094       212.314       \n",
      "\u001b[J49          38282       0.0571051   0.981678       216.778       \n",
      "\u001b[J50          39063       0.0536466   0.983955       221.119       \n",
      "\u001b[J51          39844       0.0618921   0.982614       225.545       \n",
      "\u001b[J52          40625       0.0521461   0.983415       229.899       \n",
      "\u001b[J53          41407       0.0452307   0.986073       234.211       \n",
      "\u001b[J54          42188       0.0634144   0.981274       238.535       \n",
      "\u001b[J55          42969       0.0594368   0.982074       242.895       \n",
      "\u001b[J56          43750       0.049699    0.984735       247.261       \n",
      "\u001b[J57          44532       0.0590911   0.982876       251.759       \n",
      "\u001b[J58          45313       0.0523773   0.984715       256.101       \n",
      "\u001b[J59          46094       0.0576023   0.983095       260.554       \n",
      "\u001b[J60          46875       0.0500674   0.985355       264.893       \n",
      "\u001b[J61          47657       0.0575263   0.982557       269.459       \n",
      "\u001b[J62          48438       0.0562934   0.984035       273.862       \n",
      "\u001b[J63          49219       0.0484299   0.985415       278.221       \n",
      "\u001b[J64          50000       0.0561158   0.983195       282.456       \n",
      "\u001b[J65          50782       0.055323    0.984075       286.795       \n",
      "\u001b[J66          51563       0.0526061   0.984535       291.108       \n",
      "\u001b[J67          52344       0.0582684   0.984215       295.416       \n",
      "\u001b[J68          53125       0.0465464   0.987036       299.709       \n",
      "\u001b[J69          53907       0.0487809   0.985933       303.968       \n",
      "\u001b[J70          54688       0.0543031   0.984575       308.375       \n",
      "\u001b[J71          55469       0.0617213   0.983795       312.908       \n",
      "\u001b[J72          56250       0.0560517   0.985095       317.317       \n",
      "\u001b[J73          57032       0.0446557   0.986973       321.796       \n",
      "\u001b[J74          57813       0.0564835   0.984655       326.238       \n",
      "\u001b[J75          58594       0.0501826   0.986056       330.659       \n",
      "\u001b[J76          59375       0.0563195   0.985095       334.953       \n",
      "\u001b[J77          60157       0.0516103   0.985754       339.261       \n",
      "\u001b[J78          60938       0.0481571   0.986576       343.574       \n",
      "\u001b[J79          61719       0.046685    0.987016       347.949       \n",
      "\u001b[J80          62500       0.0614661   0.983995       352.381       \n",
      "\u001b[J81          63282       0.051111    0.986313       356.879       \n",
      "\u001b[J82          64063       0.0556639   0.985855       361.239       \n",
      "\u001b[J83          64844       0.0485283   0.987016       365.579       \n",
      "\u001b[J84          65625       0.0540263   0.985735       369.901       \n",
      "\u001b[J85          66407       0.0544024   0.986153       374.192       \n",
      "\u001b[J86          67188       0.0534837   0.985755       378.526       \n",
      "\u001b[J87          67969       0.0450516   0.988796       382.8         \n",
      "\u001b[J88          68750       0.0506609   0.987836       387.242       \n",
      "\u001b[J89          69532       0.0483624   0.987312       391.743       \n",
      "\u001b[J90          70313       0.0563989   0.985475       396.236       \n",
      "\u001b[J91          71094       0.0555406   0.986396       400.679       \n",
      "\u001b[J92          71875       0.0490001   0.987756       405.174       \n",
      "\u001b[J93          72657       0.0502913   0.986913       409.57        \n",
      "\u001b[J94          73438       0.0502758   0.987436       413.944       \n",
      "\u001b[J95          74219       0.0447164   0.988896       418.487       \n",
      "\u001b[J96          75000       0.0571928   0.985915       422.889       \n",
      "\u001b[J97          75782       0.049854    0.987972       427.27        \n",
      "\u001b[J98          76563       0.0448252   0.987776       431.598       \n",
      "\u001b[J99          77344       0.0523652   0.986936       435.891       \n",
      "\u001b[J100         78125       0.0428011   0.989397       440.216       \n",
      "\u001b[J101         78907       0.0568785   0.986073       444.599       \n"
     ]
    },
    {
     "ename": "KeyboardInterrupt",
     "evalue": "",
     "output_type": "error",
     "traceback": [
      "\u001b[0;31m---------------------------------------------------------------------------\u001b[0m",
      "\u001b[0;31mKeyboardInterrupt\u001b[0m                         Traceback (most recent call last)",
      "\u001b[0;32m<ipython-input-15-26c086455dc4>\u001b[0m in \u001b[0;36m<module>\u001b[0;34m()\u001b[0m\n\u001b[1;32m     32\u001b[0m trainer.extend(extensions.PrintReport(\n\u001b[1;32m     33\u001b[0m     ['epoch', 'iteration', 'main/loss', 'main/accuracy', 'elapsed_time']))\n\u001b[0;32m---> 34\u001b[0;31m \u001b[0mtrainer\u001b[0m\u001b[0;34m.\u001b[0m\u001b[0mrun\u001b[0m\u001b[0;34m(\u001b[0m\u001b[0;34m)\u001b[0m\u001b[0;34m\u001b[0m\u001b[0m\n\u001b[0m",
      "\u001b[0;32m/mnt/sakura201/mitmul/codes/chainer-handson/handson/lib/python3.4/site-packages/chainer/training/trainer.py\u001b[0m in \u001b[0;36mrun\u001b[0;34m(self)\u001b[0m\n\u001b[1;32m    293\u001b[0m                 \u001b[0mself\u001b[0m\u001b[0;34m.\u001b[0m\u001b[0mobservation\u001b[0m \u001b[0;34m=\u001b[0m \u001b[0;34m{\u001b[0m\u001b[0;34m}\u001b[0m\u001b[0;34m\u001b[0m\u001b[0m\n\u001b[1;32m    294\u001b[0m                 \u001b[0;32mwith\u001b[0m \u001b[0mreporter\u001b[0m\u001b[0;34m.\u001b[0m\u001b[0mscope\u001b[0m\u001b[0;34m(\u001b[0m\u001b[0mself\u001b[0m\u001b[0;34m.\u001b[0m\u001b[0mobservation\u001b[0m\u001b[0;34m)\u001b[0m\u001b[0;34m:\u001b[0m\u001b[0;34m\u001b[0m\u001b[0m\n\u001b[0;32m--> 295\u001b[0;31m                     \u001b[0mupdate\u001b[0m\u001b[0;34m(\u001b[0m\u001b[0;34m)\u001b[0m\u001b[0;34m\u001b[0m\u001b[0m\n\u001b[0m\u001b[1;32m    296\u001b[0m                     \u001b[0;32mfor\u001b[0m \u001b[0mname\u001b[0m\u001b[0;34m,\u001b[0m \u001b[0mentry\u001b[0m \u001b[0;32min\u001b[0m \u001b[0mextensions\u001b[0m\u001b[0;34m:\u001b[0m\u001b[0;34m\u001b[0m\u001b[0m\n\u001b[1;32m    297\u001b[0m                         \u001b[0;32mif\u001b[0m \u001b[0mentry\u001b[0m\u001b[0;34m.\u001b[0m\u001b[0mtrigger\u001b[0m\u001b[0;34m(\u001b[0m\u001b[0mself\u001b[0m\u001b[0;34m)\u001b[0m\u001b[0;34m:\u001b[0m\u001b[0;34m\u001b[0m\u001b[0m\n",
      "\u001b[0;32m/mnt/sakura201/mitmul/codes/chainer-handson/handson/lib/python3.4/site-packages/chainer/training/updater.py\u001b[0m in \u001b[0;36mupdate\u001b[0;34m(self)\u001b[0m\n\u001b[1;32m    172\u001b[0m \u001b[0;34m\u001b[0m\u001b[0m\n\u001b[1;32m    173\u001b[0m     \u001b[0;32mdef\u001b[0m \u001b[0mupdate\u001b[0m\u001b[0;34m(\u001b[0m\u001b[0mself\u001b[0m\u001b[0;34m)\u001b[0m\u001b[0;34m:\u001b[0m\u001b[0;34m\u001b[0m\u001b[0m\n\u001b[0;32m--> 174\u001b[0;31m         \u001b[0mself\u001b[0m\u001b[0;34m.\u001b[0m\u001b[0mupdate_core\u001b[0m\u001b[0;34m(\u001b[0m\u001b[0;34m)\u001b[0m\u001b[0;34m\u001b[0m\u001b[0m\n\u001b[0m\u001b[1;32m    175\u001b[0m         \u001b[0mself\u001b[0m\u001b[0;34m.\u001b[0m\u001b[0miteration\u001b[0m \u001b[0;34m+=\u001b[0m \u001b[0;36m1\u001b[0m\u001b[0;34m\u001b[0m\u001b[0m\n\u001b[1;32m    176\u001b[0m \u001b[0;34m\u001b[0m\u001b[0m\n",
      "\u001b[0;32m/mnt/sakura201/mitmul/codes/chainer-handson/handson/lib/python3.4/site-packages/chainer/training/updater.py\u001b[0m in \u001b[0;36mupdate_core\u001b[0;34m(self)\u001b[0m\n\u001b[1;32m    177\u001b[0m     \u001b[0;32mdef\u001b[0m \u001b[0mupdate_core\u001b[0m\u001b[0;34m(\u001b[0m\u001b[0mself\u001b[0m\u001b[0;34m)\u001b[0m\u001b[0;34m:\u001b[0m\u001b[0;34m\u001b[0m\u001b[0m\n\u001b[1;32m    178\u001b[0m         \u001b[0mbatch\u001b[0m \u001b[0;34m=\u001b[0m \u001b[0mself\u001b[0m\u001b[0;34m.\u001b[0m\u001b[0m_iterators\u001b[0m\u001b[0;34m[\u001b[0m\u001b[0;34m'main'\u001b[0m\u001b[0;34m]\u001b[0m\u001b[0;34m.\u001b[0m\u001b[0mnext\u001b[0m\u001b[0;34m(\u001b[0m\u001b[0;34m)\u001b[0m\u001b[0;34m\u001b[0m\u001b[0m\n\u001b[0;32m--> 179\u001b[0;31m         \u001b[0min_arrays\u001b[0m \u001b[0;34m=\u001b[0m \u001b[0mself\u001b[0m\u001b[0;34m.\u001b[0m\u001b[0mconverter\u001b[0m\u001b[0;34m(\u001b[0m\u001b[0mbatch\u001b[0m\u001b[0;34m,\u001b[0m \u001b[0mself\u001b[0m\u001b[0;34m.\u001b[0m\u001b[0mdevice\u001b[0m\u001b[0;34m)\u001b[0m\u001b[0;34m\u001b[0m\u001b[0m\n\u001b[0m\u001b[1;32m    180\u001b[0m \u001b[0;34m\u001b[0m\u001b[0m\n\u001b[1;32m    181\u001b[0m         \u001b[0moptimizer\u001b[0m \u001b[0;34m=\u001b[0m \u001b[0mself\u001b[0m\u001b[0;34m.\u001b[0m\u001b[0m_optimizers\u001b[0m\u001b[0;34m[\u001b[0m\u001b[0;34m'main'\u001b[0m\u001b[0;34m]\u001b[0m\u001b[0;34m\u001b[0m\u001b[0m\n",
      "\u001b[0;32m/mnt/sakura201/mitmul/codes/chainer-handson/handson/lib/python3.4/site-packages/chainer/dataset/convert.py\u001b[0m in \u001b[0;36mconcat_examples\u001b[0;34m(batch, device, padding)\u001b[0m\n\u001b[1;32m     91\u001b[0m         \u001b[0;32mfor\u001b[0m \u001b[0mi\u001b[0m \u001b[0;32min\u001b[0m \u001b[0msix\u001b[0m\u001b[0;34m.\u001b[0m\u001b[0mmoves\u001b[0m\u001b[0;34m.\u001b[0m\u001b[0mrange\u001b[0m\u001b[0;34m(\u001b[0m\u001b[0mlen\u001b[0m\u001b[0;34m(\u001b[0m\u001b[0mfirst_elem\u001b[0m\u001b[0;34m)\u001b[0m\u001b[0;34m)\u001b[0m\u001b[0;34m:\u001b[0m\u001b[0;34m\u001b[0m\u001b[0m\n\u001b[1;32m     92\u001b[0m             result.append(to_device(device, _concat_arrays(\n\u001b[0;32m---> 93\u001b[0;31m                 [example[i] for example in batch], padding[i])))\n\u001b[0m\u001b[1;32m     94\u001b[0m \u001b[0;34m\u001b[0m\u001b[0m\n\u001b[1;32m     95\u001b[0m         \u001b[0;32mreturn\u001b[0m \u001b[0mtuple\u001b[0m\u001b[0;34m(\u001b[0m\u001b[0mresult\u001b[0m\u001b[0;34m)\u001b[0m\u001b[0;34m\u001b[0m\u001b[0m\n",
      "\u001b[0;32m/mnt/sakura201/mitmul/codes/chainer-handson/handson/lib/python3.4/site-packages/chainer/dataset/convert.py\u001b[0m in \u001b[0;36m_concat_arrays\u001b[0;34m(arrays, padding)\u001b[0m\n\u001b[1;32m    121\u001b[0m     \u001b[0mxp\u001b[0m \u001b[0;34m=\u001b[0m \u001b[0mcuda\u001b[0m\u001b[0;34m.\u001b[0m\u001b[0mget_array_module\u001b[0m\u001b[0;34m(\u001b[0m\u001b[0marrays\u001b[0m\u001b[0;34m[\u001b[0m\u001b[0;36m0\u001b[0m\u001b[0;34m]\u001b[0m\u001b[0;34m)\u001b[0m\u001b[0;34m\u001b[0m\u001b[0m\n\u001b[1;32m    122\u001b[0m     \u001b[0;32mwith\u001b[0m \u001b[0mcuda\u001b[0m\u001b[0;34m.\u001b[0m\u001b[0mget_device\u001b[0m\u001b[0;34m(\u001b[0m\u001b[0marrays\u001b[0m\u001b[0;34m[\u001b[0m\u001b[0;36m0\u001b[0m\u001b[0;34m]\u001b[0m\u001b[0;34m)\u001b[0m\u001b[0;34m:\u001b[0m\u001b[0;34m\u001b[0m\u001b[0m\n\u001b[0;32m--> 123\u001b[0;31m         \u001b[0;32mreturn\u001b[0m \u001b[0mxp\u001b[0m\u001b[0;34m.\u001b[0m\u001b[0mconcatenate\u001b[0m\u001b[0;34m(\u001b[0m\u001b[0;34m[\u001b[0m\u001b[0marray\u001b[0m\u001b[0;34m[\u001b[0m\u001b[0;32mNone\u001b[0m\u001b[0;34m]\u001b[0m \u001b[0;32mfor\u001b[0m \u001b[0marray\u001b[0m \u001b[0;32min\u001b[0m \u001b[0marrays\u001b[0m\u001b[0;34m]\u001b[0m\u001b[0;34m)\u001b[0m\u001b[0;34m\u001b[0m\u001b[0m\n\u001b[0m\u001b[1;32m    124\u001b[0m \u001b[0;34m\u001b[0m\u001b[0m\n\u001b[1;32m    125\u001b[0m \u001b[0;34m\u001b[0m\u001b[0m\n",
      "\u001b[0;31mKeyboardInterrupt\u001b[0m: "
     ]
    }
   ],
   "source": [
    "from chainer.datasets import cifar\n",
    "from chainer import iterators\n",
    "from chainer import training\n",
    "from chainer import optimizers\n",
    "from chainer.training import extensions\n",
    "\n",
    "batchsize = 64\n",
    "gpu_id = 0\n",
    "max_epoch = 30\n",
    "\n",
    "# Model\n",
    "model = MyModel(10)\n",
    "model = L.Classifier(model)\n",
    "model.to_gpu(gpu_id)\n",
    "\n",
    "# Optimizer\n",
    "optimizer = optimizers.Adam()\n",
    "optimizer.setup(model)\n",
    "\n",
    "# Dataset\n",
    "train, test = cifar.get_cifar10()\n",
    "\n",
    "# Iterator\n",
    "train_iter = iterators.SerialIterator(train, batchsize)\n",
    "test_iter = iterators.SerialIterator(test, batchsize, False, False)\n",
    "\n",
    "# Updater\n",
    "updater = training.StandardUpdater(train_iter, optimizer, device=gpu_id)\n",
    "\n",
    "# Trainer\n",
    "trainer = training.Trainer(updater, max_epoch)\n",
    "trainer.extend(extensions.LogReport())\n",
    "trainer.extend(extensions.PrintReport(\n",
    "    ['epoch', 'iteration', 'main/loss', 'main/accuracy', 'elapsed_time']))\n",
    "trainer.run()"
   ]
  },
  {
   "cell_type": "code",
   "execution_count": 25,
   "metadata": {
    "collapsed": false
   },
   "outputs": [
    {
     "name": "stdout",
     "output_type": "stream",
     "text": [
      "frog\n"
     ]
    },
    {
     "data": {
      "image/png": "[encoded data removed]",
      "text/plain": [
       "<matplotlib.figure.Figure at 0x7f36b12a5978>"
      ]
     },
     "metadata": {},
     "output_type": "display_data"
    }
   ],
   "source": [
    "%matplotlib inline\n",
    "import matplotlib.pyplot as plt\n",
    "\n",
    "cls_names = ['airplane', 'automobile', 'bird', 'cat', 'deer',\n",
    "             'dog', 'frog', 'horse', 'ship', 'truck']\n",
    "\n",
    "x, t = test[4]\n",
    "plt.imshow(x.transpose(1, 2, 0))\n",
    "print(cls_names[t])"
   ]
  }
 ],
 "metadata": {
  "kernelspec": {
   "display_name": "Python 3",
   "language": "python",
   "name": "python3"
  },
  "language_info": {
   "codemirror_mode": {
    "name": "ipython",
    "version": 3
   },
   "file_extension": ".py",
   "mimetype": "text/x-python",
   "name": "python",
   "nbconvert_exporter": "python",
   "pygments_lexer": "ipython3",
   "version": "3.4.3"
  }
 },
 "nbformat": 4,
 "nbformat_minor": 2
}
